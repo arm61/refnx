{
 "cells": [
  {
   "cell_type": "markdown",
   "metadata": {},
   "source": [
    "# Analysing molecular dynamics simulation\n",
    "\n",
    "This notebook demonstrates how the `simulation` module of `refnx` can be used to obtain reflectometry data from a molecular simulation trajectory. \n",
    "\n",
    "The first step in most Python scripts is to import modules and functions that are going to be used. "
   ]
  },
  {
   "cell_type": "code",
   "execution_count": 1,
   "metadata": {},
   "outputs": [],
   "source": [
    "# use matplotlib for plotting\n",
    "%matplotlib inline\n",
    "import matplotlib.pyplot as plt\n",
    "import numpy as np\n",
    "import os.path\n",
    "\n",
    "import refnx, scipy\n",
    "\n",
    "# the ReflectDataset object will contain the data\n",
    "from refnx.dataset import ReflectDataset\n",
    "\n",
    "# the reflect module contains functionality relevant to reflectometry\n",
    "from refnx.reflect import ReflectModel, Simulation\n",
    "\n",
    "# the analysis module contains the curvefitting engine\n",
    "from refnx.analysis import Objective, Transform, CurveFitter"
   ]
  },
  {
   "cell_type": "markdown",
   "metadata": {},
   "source": [
    "In order for the analysis to be exactly reproducible the same package versions must be used. The conda packaging manager, and pip, can be used to ensure this is the case."
   ]
  },
  {
   "cell_type": "code",
   "execution_count": 2,
   "metadata": {},
   "outputs": [
    {
     "data": {
      "text/plain": [
       "('0.0.18.dev0+bbdf12f', '1.1.0')"
      ]
     },
     "execution_count": 2,
     "metadata": {},
     "output_type": "execute_result"
    }
   ],
   "source": [
    "# version numbers used in this analysis\n",
    "refnx.version.version, scipy.version.version"
   ]
  },
  {
   "cell_type": "markdown",
   "metadata": {},
   "source": [
    "The `Simulation` class is used to represent the scattering length density profile that is obtained from the molecular dynamics simulation output. The `simulation.pdb` is a molecular dynamics trajectory consisting of 24327 atoms for 6 timestep of simulation. The `simulation.lgt` is a text which that assigns the scattering lengths of the individual atoms, not in this example the simulation used a united-atom model, where all of the hydrogen atoms are integrated into the atoms to which they are bound. The `simulation.lgt` file takes the form of a space-separated file consisting of the atom name, real scattering length, and imaginary scattering length. \n",
    "\n",
    "The `Simulation` class takes the $z = 0$ point as the plane that the neutrons or X-ray are penetrating from, therefore it may be necessary to `flip` the simulation cell. "
   ]
  },
  {
   "cell_type": "code",
   "execution_count": 3,
   "metadata": {},
   "outputs": [],
   "source": [
    "pth = os.path.join(os.path.dirname(refnx.__file__), 'reflect', 'test')\n",
    "\n",
    "sim = Simulation(os.path.join(pth, 'simulation.pdb'), lgtfile=os.path.join(pth, 'simulation.lgt'), flip=True)"
   ]
  },
  {
   "cell_type": "markdown",
   "metadata": {},
   "source": [
    "It is then possible to plot the determined scattering length density profile, as shown below."
   ]
  },
  {
   "cell_type": "code",
   "execution_count": 4,
   "metadata": {},
   "outputs": [
    {
     "data": {
      "text/plain": [
       "[<matplotlib.lines.Line2D at 0x7f0c73fb27b8>]"
      ]
     },
     "execution_count": 4,
     "metadata": {},
     "output_type": "execute_result"
    },
    {
     "data": {
      "image/png": "[encoded data removed]",
      "text/plain": [
       "<Figure size 432x288 with 1 Axes>"
      ]
     },
     "metadata": {},
     "output_type": "display_data"
    }
   ],
   "source": [
    "plt.plot(sim.sld_profile()[0], sim.sld_profile()[1])"
   ]
  },
  {
   "cell_type": "markdown",
   "metadata": {},
   "source": [
    "Since the reflectometry is determined from simulation, it is necessary to fit the reflectometry to the a dataset by varing the scale and background. This is achieved by defining the relevant data for the simulation performed and using the `CurveFitter` and `Objective` classes, as discussed in [getting started](./getting_started.ipynb). "
   ]
  },
  {
   "cell_type": "code",
   "execution_count": 5,
   "metadata": {},
   "outputs": [
    {
     "name": "stdout",
     "output_type": "stream",
     "text": [
      "________________________________________________________________________________\n",
      "Objective - 139691462609496\n",
      "Dataset = example\n",
      "datapoints = 51\n",
      "chi2 = 4352.772598345131\n",
      "Weighted = True\n",
      "Transform = <refnx.analysis.objective.Transform object at 0x7f0c7401d278>\n",
      "________________________________________________________________________________\n",
      "Parameters:       ''       \n",
      "________________________________________________________________________________\n",
      "Parameters: 'instrument parameters'\n",
      "<Parameter:    'scale'    value=    43.5851              , bounds=[0.001, inf]>\n",
      "<Parameter:     'bkg'     value=  1.88809e-06            , bounds=[0, inf]>\n",
      "<Parameter:'dq - resolution'value=       5        (fixed)  , bounds=[-inf, inf]>\n",
      "________________________________________________________________________________\n",
      "Parameters: 'traj: /home/arm61/anaconda3/envs/ref_fal/lib/python3.7/site-packages/refnx-0.0.18.dev0+bbdf12f-py3.7-linux-x86_64.egg/refnx/reflect/test/simulation.pdb \\n lgt: /home/arm61/anaconda3/envs/ref_fal/lib/python3.7/site-packages/refnx-0.0.18.dev0+bbdf12f-py3.7-linux-x86_64.egg/refnx/reflect/test/simulation.lgt'\n"
     ]
    }
   ],
   "source": [
    "dataset = ReflectDataset(os.path.join(pth, 'simulation.dat'))\n",
    "model = ReflectModel(sim)\n",
    "model.scale.setp(100, vary=True, bounds=(0.001, np.inf))\n",
    "model.bkg.setp(dataset.y[-1], vary=True, bounds=(0, np.inf))\n",
    "objective = Objective(model, dataset, transform=Transform('YX4'))\n",
    "fitter = CurveFitter(objective)\n",
    "res = fitter.fit()\n",
    "print(objective)"
   ]
  },
  {
   "cell_type": "markdown",
   "metadata": {},
   "source": [
    "It is then possible to plot the simulation-derived reflectometry against the experimental data. "
   ]
  },
  {
   "cell_type": "code",
   "execution_count": 6,
   "metadata": {},
   "outputs": [
    {
     "data": {
      "text/plain": [
       "Text(0,0.5,'Reflectivity')"
      ]
     },
     "execution_count": 6,
     "metadata": {},
     "output_type": "execute_result"
    },
    {
     "data": {
      "image/png": "[encoded data removed]",
      "text/plain": [
       "<Figure size 432x288 with 1 Axes>"
      ]
     },
     "metadata": {},
     "output_type": "display_data"
    }
   ],
   "source": [
    "objective.plot()\n",
    "plt.yscale('log')\n",
    "plt.xlabel('Q')\n",
    "plt.ylabel('Reflectivity')"
   ]
  },
  {
   "cell_type": "code",
   "execution_count": null,
   "metadata": {},
   "outputs": [],
   "source": []
  }
 ],
 "metadata": {
  "kernelspec": {
   "display_name": "Python [conda env:ref_fal]",
   "language": "python",
   "name": "conda-env-ref_fal-py"
  },
  "language_info": {
   "codemirror_mode": {
    "name": "ipython",
    "version": 3
   },
   "file_extension": ".py",
   "mimetype": "text/x-python",
   "name": "python",
   "nbconvert_exporter": "python",
   "pygments_lexer": "ipython3",
   "version": "3.7.0"
  },
  "latex_envs": {
   "LaTeX_envs_menu_present": true,
   "autoclose": false,
   "autocomplete": true,
   "bibliofile": "biblio.bib",
   "cite_by": "apalike",
   "current_citInitial": 1,
   "eqLabelWithNumbers": true,
   "eqNumInitial": 1,
   "hotkeys": {
    "equation": "Ctrl-E",
    "itemize": "Ctrl-I"
   },
   "labels_anchors": false,
   "latex_user_defs": false,
   "report_style_numbering": false,
   "user_envs_cfg": false
  }
 },
 "nbformat": 4,
 "nbformat_minor": 2
}
