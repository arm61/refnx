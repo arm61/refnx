{
 "cells": [
  {
   "cell_type": "markdown",
   "metadata": {},
   "source": [
    "# Getting reflectrometry from molecular dynamics simulation\n",
    "\n",
    "This notebook demonstrates how the `simulation` module of `refnx` can be used to obtain reflectometry data from a molecular simulation trajectory. \n",
    "\n",
    "The first step in most Python scripts is to import modules and functions that are going to be used. "
   ]
  },
  {
   "cell_type": "code",
   "execution_count": null,
   "metadata": {},
   "outputs": [],
   "source": [
    "# use matplotlib for plotting\n",
    "%matplotlib inline\n",
    "import matplotlib.pyplot as plt\n",
    "import numpy as np\n",
    "import os.path\n",
    "\n",
    "import refnx, scipy\n",
    "\n",
    "# the ReflectDataset object will contain the data\n",
    "from refnx.dataset import ReflectDataset\n",
    "\n",
    "# the reflect module contains functionality relevant to reflectometry\n",
    "from refnx.reflect import ReflectModel, MDSimulation\n",
    "\n",
    "# the analysis module contains the curvefitting engine\n",
    "from refnx.analysis import Objective, Transform, CurveFitter"
   ]
  },
  {
   "cell_type": "markdown",
   "metadata": {},
   "source": [
    "In order for the analysis to be exactly reproducible the same package versions must be used. The conda packaging manager, and pip, can be used to ensure this is the case."
   ]
  },
  {
   "cell_type": "code",
   "execution_count": null,
   "metadata": {},
   "outputs": [],
   "source": [
    "# version numbers used in this analysis\n",
    "refnx.version.version, scipy.version.version"
   ]
  },
  {
   "cell_type": "markdown",
   "metadata": {},
   "source": [
    "The `Simulation` class is used to represent the scattering length density profile that is obtained from the molecular dynamics simulation output. The `simulation.pdb` is a molecular dynamics trajectory consisting of 24327 atoms for 6 timestep of simulation. The `simulation.lgt` is a text which that assigns the scattering lengths of the individual atoms, not in this example the simulation used a united-atom model, where all of the hydrogen atoms are integrated into the atoms to which they are bound. The `simulation.lgt` file takes the form of a space-separated file consisting of the atom name, real scattering length, and imaginary scattering length. \n",
    "\n",
    "The `Simulation` class takes the $z = 0$ point as the plane that the neutrons or X-ray are penetrating from, therefore it may be necessary to `flip` the simulation cell. "
   ]
  },
  {
   "cell_type": "code",
   "execution_count": null,
   "metadata": {},
   "outputs": [],
   "source": [
    "pth = os.path.join(os.path.dirname(refnx.__file__), 'reflect', 'test')\n",
    "\n",
    "sim = MDSimulation(os.path.join(pth, 'mdsimulation.pdb'), lgtfile=os.path.join(pth, 'mdsimulation.lgt'), flip=True, cut_off=15)"
   ]
  },
  {
   "cell_type": "markdown",
   "metadata": {},
   "source": [
    "It is then possible to plot the determined scattering length density profile, as shown below."
   ]
  },
  {
   "cell_type": "code",
   "execution_count": null,
   "metadata": {
    "scrolled": false
   },
   "outputs": [],
   "source": [
    "plt.plot(sim.sld_profile()[0], sim.sld_profile()[1])\n",
    "plt.xlabel('z')\n",
    "plt.ylabel('SLD')"
   ]
  },
  {
   "cell_type": "markdown",
   "metadata": {},
   "source": [
    "Since the reflectometry is determined from simulation, it is necessary to fit the reflectometry to the a dataset by varing the scale and background. This is achieved by defining the relevant data for the simulation performed and using the `CurveFitter` and `Objective` classes, as discussed in [getting started](./getting_started.ipynb). "
   ]
  },
  {
   "cell_type": "code",
   "execution_count": null,
   "metadata": {},
   "outputs": [],
   "source": [
    "dataset = ReflectDataset(os.path.join(pth, 'mdsimulation.dat'))\n",
    "model = ReflectModel(sim)\n",
    "model.scale.setp(100, vary=True, bounds=(0.00000001, np.inf))\n",
    "model.bkg.setp(dataset.y[-1], vary=True, bounds=(0, np.inf))\n",
    "objective = Objective(model, dataset, transform=Transform('YX4'))\n",
    "fitter = CurveFitter(objective)\n",
    "res = fitter.fit()\n",
    "print(objective)"
   ]
  },
  {
   "cell_type": "markdown",
   "metadata": {},
   "source": [
    "It is then possible to plot the simulation-derived reflectometry against the experimental data. "
   ]
  },
  {
   "cell_type": "code",
   "execution_count": null,
   "metadata": {},
   "outputs": [],
   "source": [
    "objective.plot()\n",
    "plt.yscale('log')\n",
    "plt.xlabel('Q')\n",
    "plt.ylabel('Reflectivity')"
   ]
  },
  {
   "cell_type": "code",
   "execution_count": null,
   "metadata": {},
   "outputs": [],
   "source": []
  }
 ],
 "metadata": {
  "kernelspec": {
   "display_name": "Python 3",
   "language": "python",
   "name": "python3"
  },
  "language_info": {
   "codemirror_mode": {
    "name": "ipython",
    "version": 3
   },
   "file_extension": ".py",
   "mimetype": "text/x-python",
   "name": "python",
   "nbconvert_exporter": "python",
   "pygments_lexer": "ipython3",
   "version": "3.7.0"
  }
 },
 "nbformat": 4,
 "nbformat_minor": 2
}
